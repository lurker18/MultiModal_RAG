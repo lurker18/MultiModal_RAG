{
 "cells": [
  {
   "cell_type": "code",
   "execution_count": 1,
   "id": "6d96ffe7-39e8-43cc-81c8-3f47f7451fb7",
   "metadata": {},
   "outputs": [],
   "source": [
    "from baseline_main import main as baseline"
   ]
  },
  {
   "cell_type": "code",
   "execution_count": 2,
   "id": "a1421fa2-35ea-4c3d-89e9-0d2647f560c4",
   "metadata": {},
   "outputs": [],
   "source": [
    "from generation import gpt3 as gpt3_gen"
   ]
  },
  {
   "cell_type": "code",
   "execution_count": 3,
   "id": "9318789c-8ee8-4fe4-bc96-e9f41dfb5ead",
   "metadata": {},
   "outputs": [],
   "source": [
    "import openai"
   ]
  },
  {
   "cell_type": "code",
   "execution_count": 4,
   "id": "7bee04d3-ec1c-470f-b598-2c105f29930d",
   "metadata": {},
   "outputs": [],
   "source": [
    "question = {\n",
    "    \"question_id\": \"20220610_0_nota\", \n",
    "    \"question_date\": \"2022/06/10\", \n",
    "    \"question_source\": \"CNN\", \n",
    "    \"question_url\": \"https://edition.cnn.com/interactive/2022/06/us/cnn-5-things-news-quiz-june-9-sec/\", \n",
    "    \"question_sentence\": \"According to a recent ranking, which is the world’s most expensive city?\", \n",
    "    \"choices\": [\"New York\", \"Tokyo\", \"London\", \"None of the above\"], \n",
    "    \"answer\": [\"3\"], \n",
    "    \"evidence\": \"For the third year in a row, <a href=\\\"https://www.cnn.com/travel/article/world-most-expensive-cities-2022-intl-hnk/index.html\\\">Hong Kong</a> received the dubious title of “priciest city in the world,” according to an analysis this week by global mobility company ECA International. The company calculates the list based on several factors, including the average price of groceries, rent, utilities, public transit and the strength of the local currency.\"\n",
    "}"
   ]
  },
  {
   "cell_type": "code",
   "execution_count": 5,
   "id": "000d32f1-b7f1-474b-af45-b7c7cdeeea6b",
   "metadata": {},
   "outputs": [],
   "source": [
    "from dotenv import load_dotenv\n",
    "import os\n",
    "from openai import OpenAI\n",
    "load_dotenv()\n",
    "api_key = os.getenv('OPENAI_API_KEY')\n",
    "client = OpenAI(api_key = api_key)"
   ]
  },
  {
   "cell_type": "code",
   "execution_count": 6,
   "id": "438fb3c5-5b4a-4687-94fa-a5bf4466ed7c",
   "metadata": {},
   "outputs": [
    {
     "name": "stderr",
     "output_type": "stream",
     "text": [
      "/home/yohan/work/MultiModal_RAG/realtime_qa/scripts/generation/gpt3.py:75: RuntimeWarning: Mean of empty slice.\n",
      "  score = lprobs.mean()\n",
      "/home/yohan/anaconda3/envs/multimodal_rag/lib/python3.10/site-packages/numpy/core/_methods.py:129: RuntimeWarning: invalid value encountered in scalar divide\n",
      "  ret = ret.dtype.type(ret / rcount)\n"
     ]
    },
    {
     "data": {
      "text/plain": [
       "(['0'], 'nan')"
      ]
     },
     "execution_count": 6,
     "metadata": {},
     "output_type": "execute_result"
    }
   ],
   "source": [
    "import tiktoken\n",
    "\n",
    "tokenizer = tiktoken.get_encoding(\"cl100k_base\")\n",
    "gpt3_gen.gpt3_question(question, tokenizer=tokenizer)"
   ]
  },
  {
   "cell_type": "code",
   "execution_count": 10,
   "id": "bb798c9e-d5a8-48d2-9bf0-c2aa118fdbf2",
   "metadata": {},
   "outputs": [],
   "source": [
    "# gpt3_gen.gpt3_questions step by step \n",
    "from utils.tools import add_today\n",
    "retrived_text = None\n",
    "model = 'gpt-3.5-turbo-instruct'\n",
    "rm_date_q = False\n",
    "tokeninzer = tokenizer\n",
    "\n",
    "sentence = question[\"question_sentence\"]\n",
    "if not rm_date_q:\n",
    "    sentence = add_today(sentence, question[\"question_date\"])\n",
    "prompt = \"Question: \" + sentence\n",
    "choices = question[\"choices\"]\n",
    "prompt += \"\\n\"\n"
   ]
  },
  {
   "cell_type": "code",
   "execution_count": 12,
   "id": "3ac962d8-4707-4d81-b5f7-9ce7afad1028",
   "metadata": {},
   "outputs": [
    {
     "data": {
      "text/plain": [
       "('Question: Today is June 10, 2022. According to a recent ranking, which is the world’s most expensive city?\\n',\n",
       " ['New York', 'Tokyo', 'London', 'None of the above'])"
      ]
     },
     "execution_count": 12,
     "metadata": {},
     "output_type": "execute_result"
    }
   ],
   "source": [
    "prompt, choices"
   ]
  },
  {
   "cell_type": "code",
   "execution_count": 92,
   "id": "749a71cb-6f6e-44ec-895a-00f1906c2b6f",
   "metadata": {
    "scrolled": true
   },
   "outputs": [
    {
     "name": "stdout",
     "output_type": "stream",
     "text": [
      "Question: Today is June 10, 2022. According to a recent ranking, which is the world’s most expensive city?\n",
      "\n",
      "Assumed answer: A) New York\n",
      "Is assumed answer is right?\n",
      "Question: Today is June 10, 2022. According to a recent ranking, which is the world’s most expensive city?\n",
      "\n",
      "Assumed answer: B) Tokyo\n",
      "Is assumed answer is right?\n",
      "Question: Today is June 10, 2022. According to a recent ranking, which is the world’s most expensive city?\n",
      "\n",
      "Assumed answer: C) London\n",
      "Is assumed answer is right?\n",
      "Question: Today is June 10, 2022. According to a recent ranking, which is the world’s most expensive city?\n",
      "\n",
      "No answer is in (New York,Tokyo,London)\n"
     ]
    }
   ],
   "source": [
    "import string\n",
    "import numpy as np\n",
    "outputs = []\n",
    "scores = []\n",
    "lprobs_list = []\n",
    "for alphabet, choice in zip(string.ascii_uppercase, choices):\n",
    "    if \"None of\" in choice:\n",
    "        ans = \"No answer is in ({})\".format(\",\".join(choices[:-1]))\n",
    "    else:\n",
    "        ans = \"Assumed answer: {}) {}\".format(alphabet, choice)\n",
    "    \n",
    "\n",
    "    #ans_len = len(tokenizer(ans)['input_ids']) - 1 # 요한님 코드\n",
    "    ans_len = len(tokenizer.encode(ans)) - 1\n",
    "    query = prompt + \"\\n\" + ans\n",
    "    if \"None of\" not in choice:\n",
    "        query = query + \"\\n\" + \"Is assumed answer is right?\"\n",
    "    print(query)\n",
    "    output = client.completions.create(\n",
    "                            model = model,\n",
    "                            prompt = query,\n",
    "                            max_tokens = 50,\n",
    "                            logprobs = 10,\n",
    "                            # echo = True,\n",
    "                            temperature = 0.1,\n",
    "                            )\n",
    "    # print(query, output.choices[0])\n",
    "    #lprobs = np.array(output[\"choices\"][0][\"logprobs\"][\"token_logprobs\"][1:])\n",
    "    # assert output[\"choices\"][0][\"logprobs\"][\"tokens\"][-ans_len-2] == \"Answer\"\n",
    "    # assert output[\"choices\"][0][\"logprobs\"][\"tokens\"][-ans_len-1] == \":\"\n",
    "    # lprobs = np.array(output[\"choices\"][0][\"logprobs\"][\"token_logprobs\"][-ans_len:])\n",
    "    outputs.append(output)\n",
    "    lprobs = np.array(output.choices[0].logprobs.token_logprobs[-ans_len:])\n",
    "    lprobs_list.append(lprobs)\n",
    "    score = lprobs.mean()\n",
    "    scores.append(score)\n",
    "scores = np.array(scores)"
   ]
  },
  {
   "cell_type": "code",
   "execution_count": 86,
   "id": "659b736d-07b8-4054-8292-6377263bc3af",
   "metadata": {},
   "outputs": [
    {
     "data": {
      "text/plain": [
       "'Question: Today is June 10, 2022. According to a recent ranking, which is the world’s most expensive city?\\n\\nAssumed answer: D) None of the above\\nIs assumed answer is right? Please answer yes or no.'"
      ]
     },
     "execution_count": 86,
     "metadata": {},
     "output_type": "execute_result"
    }
   ],
   "source": [
    "query"
   ]
  },
  {
   "cell_type": "code",
   "execution_count": 93,
   "id": "11fe6bfd-9e5b-460b-a13f-616003fe549e",
   "metadata": {
    "scrolled": true
   },
   "outputs": [
    {
     "data": {
      "text/plain": [
       "([Completion(id='cmpl-A4LqYYSpn3bTNQYvIEybhNbfzLkYX', choices=[CompletionChoice(finish_reason='length', index=0, logprobs=Logprobs(text_offset=[163, 165, 167, 168, 172, 180, 187, 190, 194, 206, 212, 213, 217, 222, 232, 237, 241, 248, 253, 258, 262, 266, 270, 273, 277, 282, 285, 288, 292, 295, 299, 304, 305, 318, 319, 323, 331, 335, 340, 350, 353, 357, 364, 368, 377, 382, 383, 386, 389, 394], token_logprobs=[-0.46022198, -0.29617608, -0.0014285711, -0.20168114, -0.3661154, -2.8206474e-05, -0.07019829, -0.068431444, -0.12839827, -0.19668593, -0.5987323, -0.22217828, -1.0792534, -0.0065858127, -0.0011702254, -0.42165262, -0.0698107, -0.16125837, -2.057744e-05, -0.31744444, -0.8217548, -0.49686095, -0.8307071, -0.8486419, -0.00019626896, -0.44097278, -0.24727246, -0.009598239, -0.9921706, -0.63815206, -0.09862542, -0.1870891, -1.1313975, -1.11603495e-05, -0.80724484, -0.75506574, -0.4319724, -1.0132167, -0.020985823, -2.9352968e-06, -0.117144115, -0.18781465, -0.4584831, -0.6440892, -0.001273685, -0.6792936, -0.4540116, -0.4197073, -0.62576395, -1.1637165e-05], tokens=['\\n\\n', 'No', ',', ' the', ' assumed', ' answer', ' is', ' not', ' necessarily', ' right', '.', ' The', ' most', ' expensive', ' city', ' can', ' change', ' over', ' time', ' and', ' may', ' not', ' be', ' the', ' same', ' as', ' it', ' was', ' in', ' the', ' past', '.', ' Additionally', ',', ' the', ' ranking', ' may', ' vary', ' depending', ' on', ' the', ' source', ' and', ' criteria', ' used', '.', ' It', ' is', ' best', ' to'], top_logprobs=[{'\\n\\n': -0.46022198, '\\n': -1.6512582, ' No': -2.862312, ':': -3.2326524, ' \\n\\n': -3.5915754, ' \\n': -3.892309, ' It': -5.113958, 'No': -5.805471, ':\\n\\n': -5.914224, ' The': -6.2607036}, {'No': -0.29617608, 'It': -1.7065021, 'Without': -3.8722868, 'Ass': -4.323432, 'The': -4.768279, 'There': -5.1737013, 'Not': -5.444829, ' No': -5.5393553, 'As': -5.770133, 'I': -5.9990244}, {',': -0.0014285711, '.': -6.9465294, '<|endoftext|>': -7.7447147, '\\n': -11.574257, ' -': -12.067776, '.\\n': -12.727215, ' information': -12.850292, ' \\n': -13.422384, ' ': -13.486549, '\\n\\n': -13.900614}, {' the': -0.20168114, ' it': -2.025076, ' this': -4.207718, ' we': -4.8402176, ' without': -5.031746, ' as': -5.2404213, ' there': -5.385109, ' I': -5.5163918, ' assuming': -6.0944214, ' since': -6.218857}, {' assumed': -0.3661154, ' answer': -1.2972295, ' correct': -4.568306, ' most': -4.7296734, ' assumption': -5.482294, ' actual': -6.1655445, ' current': -6.808281, ' question': -6.8721275, ' information': -6.8862762, ' world': -7.073221}, {' answer': -2.8206474e-05, ' date': -11.160723, ' is': -12.67749, ' correct': -13.156654, ' year': -13.402006, ' answers': -13.795929, ' ': -14.013405, ' response': -14.330091, ' ans': -14.551512, ' answered': -14.557194}, {' is': -0.07019829, ' may': -3.0394862, ' cannot': -4.6246357, ' of': -5.4669056, ' for': -6.556715, ' would': -6.7074585, ' might': -6.8534164, ' could': -7.044897, ' (': -7.4502316, ',': -8.671497}, {' not': -0.068431444, ' incorrect': -3.0992484, ' likely': -4.6865897, ' most': -4.940904, ' wrong': -6.1105857, ' unlikely': -7.074737, ' based': -7.9717517, ' probably': -8.113874, ' potentially': -8.446995, ' only': -8.82209}, {' necessarily': -0.12839827, ' right': -2.2479012, ' correct': -4.655599, ' guaranteed': -5.7312846, ' accurate': -7.2226596, ' automatically': -7.538919, ' definitely': -8.264808, ' likely': -8.292829, ' definit': -8.975781, ' specific': -10.378079}, {' right': -0.19668593, ' correct': -1.761078, ' accurate': -5.65131, ' the': -5.9021854, ' \"': -8.174803, ' true': -9.5382805, ' guaranteed': -10.606758, ' ': -11.170397, ' always': -11.429001, ' wrong': -12.098982}, {'.': -0.5987323, ' as': -0.944115, ' because': -3.469147, ',': -4.0247083, ' since': -5.2124677, ' without': -5.218577, ' for': -7.2616296, ' unless': -8.405802, ' based': -8.85676, '.\\n': -9.107897}, {' The': -0.22217828, ' It': -1.8760612, ' Without': -4.499259, ' As': -5.1699114, ' Depending': -5.628627, ' There': -5.664632, ' Rankings': -5.6827, ' Since': -5.9361315, ' June': -6.401593, ' This': -6.424964}, {' most': -1.0792534, ' world': -1.5049012, ' answer': -1.5479214, ' ranking': -1.7160828, ' actual': -4.4337683, ' correct': -4.436311, ' rankings': -5.3753157, ' question': -5.3868113, ' city': -5.445199, ' information': -6.1027975}, {' expensive': -0.0065858127, ' recent': -5.0687823, ' current': -9.02882, ' accurate': -9.535166, ' up': -9.984747, ' recently': -11.125763, ' updated': -11.947441, ' exp': -12.4489155, '-exp': -13.084072, ' currently': -13.823013}, {' city': -0.0011702254, ' cities': -6.7560415, 'city': -13.402942, ' world': -14.225434, ' may': -14.90755, ' ': -14.974362, ' is': -15.059911, '<|endoftext|>': -15.143109, ' in': -15.361943, ' could': -15.371781}, {' can': -0.42165262, ' in': -1.7797382, ' could': -2.186673, ' may': -2.9031913, ' changes': -5.569602, ' is': -6.4531507, ' ranking': -7.1670904, ' as': -7.939765, ' rankings': -7.971677, ' at': -8.204219}, {' change': -0.0698107, ' vary': -2.7539423, ' fluct': -5.787075, ' constantly': -8.027567, ' frequently': -9.398397, ' often': -9.600248, ' differ': -9.662888, ' be': -10.358807, ' depend': -10.567972, ' potentially': -10.70648}, {' over': -0.16125837, ' from': -2.5724103, ' frequently': -3.6750352, ' depending': -3.8678682, ' year': -4.985952, ' and': -5.6311755, ' in': -5.797027, ' at': -6.4597335, ' based': -6.4752364, ' constantly': -6.5275474}, {' time': -2.057744e-05, ' the': -11.059265, ' a': -12.525642, ' different': -15.00672, ' years': -15.922243, ' periods': -16.216362, ' months': -16.510578, ' tim': -16.531126, ' short': -16.655455, ' times': -16.705162}, {' and': -0.31744444, ',': -1.4521834, ' depending': -4.463547, ' due': -4.731564, '.': -4.865475, ' based': -5.014418, ' as': -6.492537, ' according': -7.168925, ' so': -7.3584046, ' with': -8.190572}, {' may': -0.8217548, ' can': -1.2021812, ' there': -3.0043187, ' is': -3.1364522, ' it': -3.4581552, ' the': -3.587933, ' depends': -3.9721665, ' different': -4.321589, ' varies': -4.390208, ' vary': -4.4421773}, {' not': -0.49686095, ' depend': -1.9612889, ' be': -2.12752, ' vary': -2.6906304, ' also': -3.267899, ' differ': -3.7760262, ' have': -6.2575955, ' fluct': -8.474028, ' no': -8.677769, ' currently': -8.900333}, {' be': -0.8307071, ' always': -1.136539, ' necessarily': -1.4998126, ' remain': -4.658342, ' stay': -5.477731, ' consistently': -6.0709147, ' still': -6.423719, ' currently': -7.579944, ' have': -7.613916, ' match': -7.99707}, {' the': -0.8486419, ' New': -0.9143481, ' accurately': -2.87849, ' consistent': -3.203197, ' consistently': -3.2108855, ' accurate': -4.7956195, ' constant': -4.844276, ' determined': -4.976217, ' known': -5.890762, ' constantly': -7.0153155}, {' same': -0.00019626896, ' city': -9.438847, ' most': -10.274227, ' one': -10.47205, ' answer': -10.985252, ' exact': -11.865286, ' world': -12.014994, ' top': -12.060322, ' current': -12.938852, ' correct': -13.158112}, {' as': -0.44097278, ' in': -1.2628951, ' city': -3.5542655, ' on': -4.159038, ' every': -4.201305, ' answer': -4.908754, ' for': -6.2058825, ' at': -6.5600276, ' each': -7.2607074, ' ranking': -7.385349}, {' it': -0.24727246, ' the': -2.0355244, ' a': -3.7380466, ' previous': -3.8581104, ' in': -4.1574936, ' what': -4.9028206, ' when': -5.405197, ' New': -5.415512, ' of': -5.792122, ' on': -6.25914}, {' was': -0.009598239, ' is': -4.8467355, ' currently': -6.65223, ' has': -8.00201, ' previously': -10.737158, ' would': -10.896591, ' once': -11.560976, ' may': -12.229012, ' used': -12.689844, ' had': -12.8001}, {' in': -0.9921706, ' at': -1.3368132, ' on': -1.4315741, ' when': -2.1532462, ' during': -5.2218723, ' before': -6.5623455, ' previously': -6.844862, ' a': -6.887863, ' today': -7.926222, ' the': -7.941248}, {' the': -0.63815206, ' ': -1.251895, ' previous': -2.586341, ' June': -2.5960112, ' a': -3.4221945, ' past': -6.2901964, ' recent': -8.166541, ' that': -8.858449, ' this': -9.069285, ' any': -9.177642}, {' past': -0.09862542, ' recent': -3.2666495, ' present': -3.9358656, ' ranking': -4.1990185, ' previous': -4.8831882, ' current': -5.060482, ' year': -5.6680164, ' time': -7.112421, ' date': -7.282053, ' rankings': -7.696781}, {'.': -0.1870891, ' or': -1.8919498, ' rankings': -5.130723, ' ranking': -5.411418, ',': -5.4719, ' when': -6.2799196, ' year': -6.3688498, '.\\n': -7.244029, ' according': -7.7407026, ' (': -8.952662}, {' It': -1.0045397, ' Additionally': -1.1313975, ' The': -2.5750754, ' Without': -2.9503062, '<|endoftext|>': -2.961014, ' To': -4.03298, ' Also': -4.1765366, ' Therefore': -4.439831, ' In': -4.4963264, ' A': -4.5114155}, {',': -1.11603495e-05, ',the': -12.002018, '<|endoftext|>': -13.831085, ',a': -14.209921, ',r': -14.792603, ',s': -14.820013, ' the': -14.906563, ',\\n': -15.008896, '.': -15.32609, ' there': -15.430456}, {' the': -0.80724484, ' there': -1.2616057, ' without': -2.2356334, ' different': -2.52626, ' it': -3.5459666, ' rankings': -3.615541, ' a': -4.0335765, ' depending': -6.332975, ' ranking': -6.468572, ' this': -6.921184}, {' ranking': -0.75506574, ' most': -1.5331419, ' answer': -1.7320421, ' question': -3.4787824, ' source': -4.1069984, ' assumed': -4.3918743, ' specific': -4.4539833, ' world': -4.5322495, ' rankings': -4.585047, ' city': -4.7901764}, {' may': -0.4319724, ' could': -2.3458157, ' used': -2.4587479, ' can': -2.8769035, ' of': -3.12356, ' and': -3.820097, ' mentioned': -4.214985, ' itself': -4.551485, ' for': -5.5487556, ' being': -5.784893}, {' vary': -1.0132167, ' also': -1.404681, ' be': -2.0832164, ' have': -2.4434116, ' differ': -2.6202877, ' consider': -3.6269786, ' include': -3.6415927, ' change': -4.0386953, ' not': -4.307866, ' depend': -4.504182}, {' depending': -0.020985823, ' based': -4.5193243, ' from': -5.5055037, ' among': -6.105418, ' between': -6.522563, ' and': -6.5385866, ',': -8.374309, ' by': -8.78151, ' according': -9.014525, ' for': -10.082358}, {' on': -2.9352968e-06, ' o': -14.0886965, '<|endoftext|>': -14.2755575, ' the': -14.974771, ' ': -15.043586, 'on': -15.631127, ' upon': -15.9769945, ' in': -16.111523, ' factors': -16.212805, ' which': -16.53872}, {' the': -0.117144115, ' different': -2.4351678, ' which': -4.067652, ' factors': -6.3925996, ' who': -6.445927, ' what': -6.5468125, ' various': -7.845427, ' sources': -8.366548, ' where': -8.595708, ' source': -9.1788645}, {' source': -0.18781465, ' criteria': -2.056757, ' specific': -4.281027, ' factors': -4.4194508, ' methodology': -4.9330273, ' sources': -5.808298, ' organization': -5.880621, ' study': -7.0447884, ' publication': -7.050209, ' data': -7.213709}, {' and': -0.4584831, ' or': -1.4088005, '.': -2.2303872, ',': -4.6766286, ' used': -5.5132794, ' of': -6.2675557, ' consulted': -9.026266, ' that': -9.061243, ' providing': -9.188782, ' being': -9.488209}, {' criteria': -0.6440892, ' methodology': -1.1344838, ' the': -2.3641782, ' factors': -3.699242, ' specific': -4.502156, ' their': -4.696072, ' method': -4.8850217, ' may': -6.713265, ' what': -6.7827706, ' different': -7.035376}, {' used': -0.001273685, ' being': -7.3009944, '.': -8.141674, ' for': -8.692032, ' of': -9.595234, ' they': -9.84243, ' considered': -12.175804, ' that': -12.27454, ',': -12.413549, ' it': -13.734423}, {'.': -0.6792936, ' for': -1.0974379, ' to': -1.9090414, ' in': -4.7591734, ',': -6.062392, '.\\n': -8.717256, ' by': -11.885007, '.\\n\\n': -12.454356, '<|endoftext|>': -14.631816, ' (': -14.668878}, {' It': -0.4540116, '<|endoftext|>': -1.9784695, ' ': -2.7877176, ' Without': -3.0523221, ' Therefore': -3.1233633, ' The': -3.407253, ' To': -4.058391, ' A': -5.051748, ' As': -5.61787, ' More': -6.165071}, {' is': -0.4197073, ' would': -1.0906744, \"'s\": -5.0238085, ' may': -9.087543, ' could': -10.507543, '’s': -11.278886, ' cannot': -11.441028, ' will': -11.468276, ' also': -11.875747, ' should': -12.558635}, {' best': -0.62576395, ' important': -0.96969706, ' always': -3.6950102, ' not': -3.8184328, ' recommended': -4.528039, ' also': -4.668544, ' possible': -5.149644, ' necessary': -5.476365, ' better': -5.4901457, ' impossible': -5.8331156}, {' to': -1.1637165e-05, ' not': -11.827915, ' practice': -12.833464, ' for': -13.933138, ' ': -15.441385, ' t': -15.997295, '<|endoftext|>': -16.708628, ' the': -16.985891, ' and': -17.178312, ' check': -17.381939}]), text='\\n\\nNo, the assumed answer is not necessarily right. The most expensive city can change over time and may not be the same as it was in the past. Additionally, the ranking may vary depending on the source and criteria used. It is best to')], created=1725600654, model='gpt-3.5-turbo-instruct', object='text_completion', system_fingerprint=None, usage=CompletionUsage(completion_tokens=50, prompt_tokens=42, total_tokens=92)),\n",
       "  Completion(id='cmpl-A4Lqa9V1MaAfKoldJ1c1oMyeQiefE', choices=[CompletionChoice(finish_reason='length', index=0, logprobs=Logprobs(text_offset=[160, 162, 164, 167, 171, 180, 183, 193, 196, 200, 208, 215, 218, 224, 232, 240, 244, 253, 261, 265, 269, 278, 279, 283, 288, 298, 303, 307, 312, 322, 325, 329, 337, 341, 345, 353, 359, 364, 378, 379, 382, 385, 390, 393, 399, 402, 406, 415, 423, 427], token_logprobs=[-0.6899724, -0.4648804, -0.017465936, -0.6618563, -0.039011095, -0.009879328, -0.24494296, -0.24148579, -0.056336116, -0.01983169, -1.0325924e-05, -0.0033765037, -0.55468607, -0.37029782, -0.21595293, -0.23583236, -0.491109, -0.03496462, -0.8427241, -0.95694774, -0.9510868, -0.06224955, -0.6421084, -0.8727738, -0.14038871, -0.014219329, -0.30039024, -0.24048913, -0.033134844, -3.650519e-06, -0.5722157, -0.49221033, -0.16736522, -0.53493714, -0.23974727, -1.5833317, -1.147242e-06, -0.19927154, -0.029359419, -1.3133405, -0.10263777, -0.28286904, -5.6769813e-06, -0.8685871, -0.00076150714, -0.021184834, -0.12429156, -0.0048006997, -0.8855674, -0.7676892], tokens=['\\n\\n', 'It', ' is', ' not', ' possible', ' to', ' determine', ' if', ' the', ' assumed', ' answer', ' is', ' right', ' without', ' knowing', ' the', ' specific', ' ranking', ' and', ' its', ' criteria', '.', ' The', ' most', ' expensive', ' city', ' can', ' vary', ' depending', ' on', ' the', ' ranking', ' and', ' the', ' factors', ' taken', ' into', ' consideration', '.', ' It', ' is', ' best', ' to', ' refer', ' to', ' the', ' specific', ' ranking', ' for', ' an'], top_logprobs=[{'\\n\\n': -0.6899724, '\\n': -1.5336347, ' It': -2.5082726, ' Yes': -3.0012002, ':': -3.4890695, ' \\n': -3.8063035, ' No': -3.924048, ' \\n\\n': -4.1438107, ' I': -4.3229756, 'It': -4.910147}, {'It': -0.4648804, 'I': -2.5110993, 'Without': -2.5203156, 'There': -2.9613423, 'This': -3.1069398, 'The': -3.2553182, 'As': -3.810555, 'No': -4.694731, 'Answer': -4.834677, ' It': -5.2351174}, {' is': -0.017465936, ' depends': -4.847512, \"'s\": -5.3660913, ' cannot': -5.6969686, ' may': -7.067412, ' could': -8.027729, ' would': -8.760448, ' might': -10.028416, ' can': -10.480562, '’s': -11.59366}, {' not': -0.6618563, ' impossible': -1.2628008, ' possible': -1.7483965, ' difficult': -4.0166917, ' unknown': -6.267121, ' uncertain': -6.2970815, ' unclear': -6.5262933, ' likely': -6.7656198, ' currently': -7.006575, ' unlikely': -7.534268}, {' possible': -0.039011095, ' necessarily': -3.994852, ' certain': -4.711235, ' guaranteed': -4.8451214, ' known': -7.053858, ' confirmed': -7.431183, ' clear': -8.105679, ' currently': -8.603743, ' specified': -8.865126, ' right': -8.998482}, {' to': -0.009879328, ' for': -4.6242304, ' determine': -11.332221, ' answer': -13.171485, ' know': -14.163161, ' ': -14.182227, ' confirm': -14.191972, ' accurately': -14.297769, ' the': -14.861947, 'to': -14.991157}, {' determine': -0.24494296, ' accurately': -1.8588345, ' confirm': -3.856868, ' say': -4.1314483, ' answer': -4.6383204, ' know': -5.1197505, ' verify': -5.580934, ' definit': -6.2301593, ' provide': -6.320644, ' give': -8.194472}, {' if': -0.24148579, ' the': -1.8169119, ' whether': -3.152918, ' with': -5.2455025, ' for': -6.1118183, ' without': -7.5708237, ' an': -7.666794, ' from': -8.17305, ' a': -9.053776, ' this': -9.098146}, {' the': -0.056336116, ' this': -2.9495437, ' B': -6.1488004, ' Tokyo': -9.62457, ' A': -9.824985, ' that': -10.059485, ' answer': -10.901526, ' your': -10.930825, ' assumed': -10.946326, ' it': -11.250104}, {' assumed': -0.01983169, ' answer': -3.987258, ' assumption': -7.0379343, ' given': -9.382293, ' presumed': -9.944562, ' assum': -11.666017, ' response': -11.744649, ' chosen': -11.9656, ' correct': -12.458987, ' answered': -12.501214}, {' answer': -1.0325924e-05, ' is': -12.67888, ' correct': -13.505673, ' answered': -13.769956, ' answers': -13.903104, ' ans': -14.145581, 'answer': -14.448253, ' right': -14.731393, ' response': -14.9211645, ' ': -15.066487}, {' is': -0.0033765037, ' (': -6.48539, ' of': -7.126467, ',': -7.1685033, ' B': -9.308154, ' \"': -9.3819, ' for': -10.418851, ' (\"': -10.928479, ' given': -11.430615, ' -': -11.922908}, {' right': -0.55468607, ' correct': -0.85947657, ' accurate': -6.224364, ' the': -8.856577, ' \"': -9.41362, ' ': -10.435093, ' completely': -10.847481, ' definitely': -10.853611, ' actually': -11.311466, ' currently': -11.360365}, {' without': -0.37029782, ' as': -1.7979273, ' or': -2.677341, ',': -3.266849, ' because': -3.98624, ' based': -4.8183665, ' since': -5.0999675, ' with': -6.270904, '.': -6.749767, ' on': -7.6653647}, {' knowing': -0.21595293, ' more': -2.856616, ' the': -3.1419363, ' additional': -3.7380114, ' further': -4.104562, ' access': -4.180032, ' a': -4.5948706, ' referencing': -5.271493, ' having': -5.3968287, ' knowledge': -5.592759}, {' the': -0.23583236, ' which': -1.6886598, ' what': -4.0962696, ' more': -4.860079, ' when': -8.141344, ' specifically': -8.638695, ' specific': -8.728325, ' information': -9.564922, ' exactly': -9.7850895, ' where': -10.239193}, {' specific': -0.491109, ' source': -1.433263, ' actual': -2.570035, ' exact': -3.399146, ' ranking': -4.1656866, ' date': -4.5832796, ' current': -5.4381742, ' details': -6.353898, ' context': -6.5564184, ' results': -6.9972715}, {' ranking': -0.03496462, ' source': -4.6128817, ' recent': -4.8210783, ' rankings': -4.936452, ' date': -5.441478, ' year': -7.168542, ' details': -7.279519, ' article': -7.3833647, ' information': -7.4965315, ' list': -7.898896}, {' and': -0.8427241, ' being': -1.2532389, ' in': -2.1546137, ' that': -2.3530276, ' or': -3.4231684, ' mentioned': -4.3883038, ' referred': -4.7685356, ' referenced': -4.8113403, ' the': -5.4739513, ' used': -6.214939}, {' its': -0.95694774, ' data': -1.391129, ' the': -1.7011342, ' date': -2.568234, ' methodology': -3.814135, ' criteria': -4.00528, ' what': -4.666405, ' source': -4.7105145, ' how': -4.9977765, ' when': -5.0032926}, {' criteria': -0.9510868, ' date': -1.302592, ' methodology': -1.8362529, ' source': -2.5569866, ' publication': -3.3952339, ' release': -3.4987361, ' data': -4.6578455, ' results': -5.0282393, ' sources': -5.0482397, ' corresponding': -5.6310034}, {'.': -0.06224955, ' for': -2.943727, ' used': -5.5421424, ',': -6.2633395, ' that': -6.836881, '.\\n': -8.166829, ' or': -8.948089, ' as': -9.346564, '/method': -9.743411, ' on': -10.14194}, {' The': -0.6421084, ' It': -2.2978625, ' Different': -2.5485377, ' Additionally': -2.621492, ' However': -3.0285087, '<|endoftext|>': -3.096519, ' City': -3.509313, ' Rankings': -3.6286464, ' ': -4.198625, ' Prices': -4.7796226}, {' most': -0.8727738, ' ranking': -1.2930849, ' world': -1.8489511, ' answer': -2.0411623, ' title': -5.346231, ' rankings': -5.488273, ' city': -5.5569453, ' cost': -6.233604, ' top': -6.9760127, ' correct': -7.1080146}, {' expensive': -0.14038871, ' recent': -2.0607455, ' accurate': -6.851736, ' current': -6.9383945, ' recently': -7.243164, ' up': -7.389349, ' updated': -9.305054, ' commonly': -9.384352, ' reliable': -10.279375, ' currently': -11.498413}, {' city': -0.014219329, ' cities': -4.26095, 'city': -12.765755, ' ranking': -13.45199, ' may': -13.809927, ' world': -14.027824, ' rankings': -14.682686, ' can': -14.718483, ' ': -15.288708, ' is': -15.358082}, {' can': -0.30039024, ' in': -2.264162, ' could': -2.5100613, ' may': -2.6437893, ' is': -7.4288235, ' ranking': -7.504053, ' rankings': -7.885294, ' changes': -8.161751, ' as': -8.250034, ' today': -8.255539}, {' vary': -0.24048913, ' change': -1.5852615, ' fluct': -5.3479795, ' also': -5.951606, ' differ': -6.761735, ' constantly': -9.347066, ' depend': -9.359199, ' often': -9.398847, ' be': -10.066405, ' potentially': -11.069676}, {' depending': -0.033134844, ' based': -3.572678, ' from': -6.280001, ' and': -6.824515, ' according': -8.006638, ' over': -8.140419, ' greatly': -8.174112, ' year': -8.287796, ',': -8.939323, ' in': -9.463699}, {' on': -3.650519e-06, ' factors': -14.252197, ' o': -14.286327, ' the': -14.311756, '<|endoftext|>': -14.545641, ' ': -15.117201, 'on': -15.193478, ' in': -15.544502, ' upon': -15.868198, ' ont': -16.628887}, {' the': -0.5722157, ' factors': -1.2233807, ' different': -2.1088786, ' various': -4.522449, ' what': -5.05928, ' which': -6.374843, ' how': -8.014044, ' sources': -8.585529, ' cost': -8.599716, ' multiple': -9.080229}, {' ranking': -0.49221033, ' source': -1.66856, ' factors': -2.211403, ' cost': -3.611763, ' methodology': -3.9969597, ' sources': -5.1726856, ' specific': -5.401329, ' data': -5.467642, ' index': -5.5163574, ' criteria': -5.532873}, {' and': -0.16736522, ' source': -2.3082383, ' used': -4.103652, \"'s\": -4.6893663, ' being': -4.7789507, ',': -4.9751787, ' organization': -5.205352, ' methodology': -6.0967455, '.': -6.358756, ' or': -6.467349}, {' the': -0.53493714, ' its': -1.6897414, ' factors': -2.208525, ' methodology': -3.3572257, ' what': -3.586447, ' time': -3.883383, ' can': -4.586014, ' data': -4.985388, ' may': -5.867073, ' method': -6.0680695}, {' factors': -0.23974727, ' time': -1.9319279, ' data': -4.034978, ' specific': -4.246213, ' cost': -5.012765, ' date': -5.186431, ' timeframe': -5.4410315, ' methodology': -5.546653, ' metrics': -6.4762697, ' parameters': -6.520438}, {' considered': -1.3116223, ' used': -1.5034024, ' taken': -1.5833317, ' included': -2.006103, ' that': -2.0686145, ' being': -3.8499484, ' it': -4.4014773, ' they': -4.9263034, ' measured': -7.4128814, ' involved': -8.557392}, {' into': -1.147242e-06, ' in': -14.291112, ' int': -15.509212, ' ': -15.972072, ' i': -16.495602, 'into': -16.655945, '<|endoftext|>': -16.714058, ' Into': -18.75138, ' to': -18.78068, ' it': -18.970535}, {' consideration': -0.19927154, ' account': -1.7111009, ' consider': -12.545011, ' considerations': -13.371976, ' considering': -15.208564, ' consid': -16.033625, ' ': -16.72033, 'consider': -16.821669, ' the': -16.883688, ' accounts': -17.025879}, {'.': -0.029359419, ',': -3.7132773, ' (': -5.698053, ' for': -7.7722564, ' such': -7.9426627, '.\\n': -8.0391865, ' in': -9.930857, ' when': -10.603298, ' to': -12.16114, '.\\n\\n': -12.786394}, {' It': -1.3133405, '<|endoftext|>': -1.4228033, ' ': -1.4720491, ' Additionally': -1.8241514, ' Therefore': -3.4778094, ' The': -4.4673285, ' Please': -5.225141, ' As': -5.2986865, ' However': -5.327644, ' Without': -5.3715243}, {' is': -0.10263777, ' would': -2.4466205, ' may': -5.121906, \"'s\": -6.122192, ' could': -6.1796355, ' also': -7.413749, ' might': -9.260565, ' will': -11.384542, ' can': -11.599182, ' should': -12.098049}, {' best': -0.28286904, ' also': -2.6165178, ' important': -2.9535158, ' recommended': -2.99674, ' possible': -3.3291433, ' always': -3.6385915, ' better': -5.6779017, ' advisable': -5.6865516, ' advised': -7.0357795, ' suggested': -7.789047}, {' to': -5.6769813e-06, ' practice': -12.671625, ' for': -13.527212, ' ': -14.906033, ' not': -15.122162, ' t': -16.105486, ' that': -16.48577, '<|endoftext|>': -16.61604, ' the': -17.074066, ' advised': -17.302563}, {' refer': -0.8685871, ' provide': -1.758388, ' check': -1.8882174, ' consult': -1.9966006, ' research': -3.1873507, ' look': -3.8773742, ' verify': -4.1877093, ' confirm': -4.212087, ' specify': -4.8015265, ' do': -5.8560863}, {' to': -0.00076150714, ' directly': -7.474217, ' back': -8.6043625, ' the': -11.733719, ' ': -13.988567, ' t': -15.117283, ' and': -15.208742, ' specifically': -15.314585, '<|endoftext|>': -15.855701, ' a': -15.903664}, {' the': -0.021184834, ' a': -3.9490452, ' an': -6.5861015, ' current': -9.411804, ' specific': -9.622145, ' updated': -9.958233, ' reliable': -10.478922, ' and': -10.674606, ' official': -11.421972, ' multiple': -11.449242}, {' specific': -0.12429156, ' actual': -2.5790532, ' latest': -4.5012083, ' source': -4.800622, ' current': -4.9239206, ' ranking': -5.314315, ' official': -6.0601244, ' most': -6.2355795, ' original': -6.395465, ' updated': -6.593646}, {' ranking': -0.0048006997, ' source': -5.5008717, ' rankings': -8.750217, ' information': -8.889042, ' article': -9.6290455, ' publication': -9.794573, ' and': -9.944895, ' list': -9.966013, ' study': -10.114166, ' report': -10.29772}, {' for': -0.8855674, ' in': -1.2845008, ' and': -2.0095718, ' to': -2.3675392, ' or': -3.4821174, ' mentioned': -3.652642, ' being': -4.0310946, ' source': -5.95963, ' that': -6.026843, ' report': -7.2559423}, {' an': -0.7676892, ' the': -0.7870412, ' a': -3.4910016, ' accurate': -3.9958386, ' accuracy': -4.042355, ' confirmation': -4.303145, ' verification': -7.91907, ' more': -8.398008, ' this': -10.305103, ' its': -10.718361}]), text='\\n\\nIt is not possible to determine if the assumed answer is right without knowing the specific ranking and its criteria. The most expensive city can vary depending on the ranking and the factors taken into consideration. It is best to refer to the specific ranking for an')], created=1725600656, model='gpt-3.5-turbo-instruct', object='text_completion', system_fingerprint=None, usage=CompletionUsage(completion_tokens=50, prompt_tokens=41, total_tokens=91)),\n",
       "  Completion(id='cmpl-A4LqbJ9ePEgwRVJOVMllDZwvwOBhO', choices=[CompletionChoice(finish_reason='length', index=0, logprobs=Logprobs(text_offset=[161, 163, 165, 168, 172, 181, 184, 194, 197, 201, 209, 216, 219, 225, 233, 241, 245, 254, 262, 266, 270, 279, 280, 284, 289, 299, 304, 308, 313, 323, 326, 330, 338, 342, 346, 354, 365, 366, 369, 372, 377, 380, 386, 389, 393, 402, 410, 414, 417, 426], token_logprobs=[-0.5433999, -0.7394711, -0.015667945, -0.5545302, -0.0323718, -0.008835678, -0.2597754, -0.29357457, -0.06692018, -0.016201526, -8.89548e-06, -0.004449582, -0.5481976, -0.3282287, -0.22641794, -0.25927892, -0.4475628, -0.029508734, -0.88687974, -0.9821598, -0.8683251, -0.06139722, -0.4091519, -0.5913696, -0.042645026, -0.010378868, -0.25596616, -0.25698367, -0.033303194, -4.246537e-06, -0.6835836, -0.41931218, -0.15480587, -0.53478646, -0.22654931, -1.4127498, -0.3110598, -1.2665625, -0.101754606, -0.28740036, -5.4385737e-06, -0.81094295, -0.0005176476, -0.023181414, -0.2111442, -0.005301589, -0.8781289, -0.45666644, -0.00025037277, -0.00063428195], tokens=['\\n\\n', 'It', ' is', ' not', ' possible', ' to', ' determine', ' if', ' the', ' assumed', ' answer', ' is', ' right', ' without', ' knowing', ' the', ' specific', ' ranking', ' and', ' its', ' criteria', '.', ' The', ' most', ' expensive', ' city', ' can', ' vary', ' depending', ' on', ' the', ' ranking', ' and', ' the', ' factors', ' considered', '.', ' It', ' is', ' best', ' to', ' refer', ' to', ' the', ' specific', ' ranking', ' for', ' an', ' accurate', ' answer'], top_logprobs=[{'\\n\\n': -0.5433999, '\\n': -1.6577644, ' It': -2.7816372, ':': -3.3603706, ' \\n\\n': -3.9192848, ' \\n': -3.93079, ' I': -4.3197784, ' No': -4.4040565, 'It': -4.9150696, ' This': -4.982687}, {'It': -0.7394711, 'Without': -1.9112564, 'No': -2.3961577, 'I': -2.4143882, 'There': -3.0483394, 'This': -3.1392493, 'The': -3.4524417, 'As': -3.6752276, 'Ass': -4.640516, 'Answer': -4.750118}, {' is': -0.015667945, ' cannot': -4.9866953, \"'s\": -5.5134573, ' depends': -5.5737257, ' may': -7.600219, ' could': -8.607387, ' would': -8.974761, ' can': -10.392913, ' might': -10.675456, '’s': -11.556075}, {' not': -0.5545302, ' impossible': -1.0919447, ' possible': -2.6714792, ' difficult': -4.217887, ' unclear': -6.5867033, ' unknown': -6.6477785, ' uncertain': -6.691577, ' unlikely': -7.308568, ' currently': -7.60695, ' likely': -8.084443}, {' possible': -0.0323718, ' necessarily': -3.9921687, ' certain': -5.2665315, ' guaranteed': -5.312403, ' known': -7.1420712, ' confirmed': -7.6730294, ' clear': -7.900515, ' right': -8.136211, ' correct': -8.268175, ' specified': -8.369959}, {' to': -0.008835678, ' for': -4.735551, ' determine': -11.376946, ' answer': -13.077813, ' accurately': -14.090863, ' ': -14.185088, ' know': -14.38164, ' confirm': -14.522996, ' the': -14.789891, 'to': -14.953128}, {' determine': -0.2597754, ' accurately': -1.737284, ' answer': -4.080223, ' say': -4.402977, ' confirm': -4.475321, ' know': -5.255184, ' provide': -5.773752, ' verify': -6.162346, ' definit': -6.936329, ' give': -7.9085236}, {' if': -0.29357457, ' the': -1.5752995, ' whether': -3.2094624, ' with': -5.5170774, ' for': -6.6344004, ' an': -7.627616, ' without': -7.6498938, ' from': -8.253112, ' a': -8.972678, ' this': -9.494992}, {' the': -0.06692018, ' this': -2.7635832, ' C': -6.62263, ' London': -8.776307, ' that': -9.854766, ' A': -10.914037, ' answer': -10.914844, ' it': -11.084527, ' your': -11.150012, ' assumed': -11.402478}, {' assumed': -0.016201526, ' answer': -4.192885, ' assumption': -7.187062, ' given': -9.273562, ' presumed': -10.014157, ' assum': -11.542371, ' chosen': -11.872216, ' response': -12.150142, ' correct': -12.523143, ' supposed': -12.538283}, {' answer': -8.89548e-06, ' is': -12.9307165, ' correct': -13.588975, ' answered': -14.014239, ' answers': -14.045207, ' ans': -14.220519, 'answer': -14.4365, ' right': -14.719512, ' ': -15.070607, ' response': -15.075059}, {' is': -0.004449582, ' (': -6.3002944, ',': -6.653108, ' of': -6.921785, ' \"': -8.815966, ' C': -9.894581, ' for': -10.247765, ' (\"': -10.590357, ' given': -10.964413, ' -': -11.225454}, {' right': -0.5481976, ' correct': -0.86796844, ' accurate': -6.281064, ' the': -8.893449, ' \"': -9.306621, ' ': -10.905528, ' definitely': -11.406545, ' completely': -11.464955, ' currently': -11.811765, ' actually': -11.821591}, {' without': -0.3282287, ' as': -1.8087375, ' or': -2.9684799, ',': -3.3932235, ' because': -4.1386175, ' based': -5.1195765, ' since': -5.205369, ' with': -6.4122458, '.': -6.9289293, ' on': -7.827914}, {' knowing': -0.22641794, ' more': -2.541493, ' the': -3.2702355, ' additional': -3.8136964, ' further': -3.9942708, ' access': -4.3839936, ' a': -4.8971944, ' having': -5.377026, ' specific': -5.5871434, ' referencing': -5.6261106}, {' the': -0.25927892, ' which': -1.6006409, ' what': -3.9999387, ' more': -4.920566, ' when': -7.8644423, ' specifically': -8.481115, ' specific': -8.808336, ' information': -9.714939, ' exactly': -9.833658, ' where': -10.273678}, {' specific': -0.4475628, ' source': -1.4742543, ' actual': -2.7243934, ' exact': -3.54573, ' ranking': -4.2015567, ' date': -4.637815, ' current': -5.6322856, ' details': -6.513263, ' recent': -6.677963, ' context': -6.6787353}, {' ranking': -0.029508734, ' source': -4.8715, ' recent': -5.0216484, ' rankings': -5.0726986, ' date': -5.397072, ' details': -7.360672, ' information': -7.4475746, ' year': -7.4760876, ' article': -7.7101135, ' list': -8.069109}, {' and': -0.88687974, ' being': -1.1705787, ' in': -2.1514938, ' that': -2.4124, ' or': -3.4309547, ' mentioned': -4.3197565, ' referenced': -4.7458906, ' referred': -4.762475, ' the': -5.6717825, ' used': -6.603097}, {' its': -0.9821598, ' data': -1.5302937, ' the': -1.647115, ' date': -2.5530407, ' methodology': -3.4611886, ' criteria': -3.5403302, ' source': -4.417012, ' what': -4.5472536, ' factors': -4.725711, ' how': -4.909417}, {' criteria': -0.8683251, ' date': -1.5221184, ' methodology': -1.9799126, ' source': -2.2953463, ' publication': -3.2800741, ' release': -3.2905073, ' data': -4.5756464, ' sources': -4.809272, ' results': -4.827979, ' corresponding': -5.466712}, {'.': -0.06139722, ' for': -2.9476945, ' used': -5.5796275, ',': -6.452455, ' that': -6.906553, '.\\n': -8.242447, ' or': -8.949087, ' as': -9.403074, '/method': -9.960527, ' on': -10.230061}, {' The': -0.4091519, ' It': -2.539773, ' Additionally': -2.7340326, ' Different': -2.9596071, '<|endoftext|>': -3.480319, ' City': -3.545373, ' Rankings': -4.1723127, ' However': -4.392167, ' ': -4.7279406, ' Cities': -4.9750967}, {' most': -0.5913696, ' world': -1.736805, ' ranking': -1.7908211, ' answer': -2.416254, ' title': -5.5886745, ' city': -5.8927097, ' rankings': -5.9220676, ' cost': -6.7131824, ' correct': -7.1939964, ' top': -7.4916897}, {' expensive': -0.042645026, ' recent': -3.2052846, ' current': -7.9417233, ' accurate': -8.109675, ' up': -8.401433, ' recently': -8.456347, ' updated': -10.068286, ' commonly': -10.411801, ' currently': -12.041625, ' reliable': -12.078059}, {' city': -0.010378868, ' cities': -4.5739355, 'city': -12.963569, ' world': -13.781959, ' ranking': -14.303168, ' may': -14.3300295, ' can': -14.680129, ' could': -15.299699, ' ': -15.307645, ' is': -15.419108}, {' can': -0.25596616, ' in': -2.3752575, ' could': -2.482008, ' may': -3.0592308, ' is': -7.601986, ' changes': -7.9992733, ' today': -8.510902, ' ranking': -8.589443, ' as': -8.672276, ' at': -8.678152}, {' vary': -0.25698367, ' change': -1.5227841, ' fluct': -5.4195585, ' also': -5.929599, ' differ': -6.8319254, ' constantly': -9.066915, ' often': -9.379205, ' depend': -9.581399, ' be': -10.2088175, ' shift': -11.340035}, {' depending': -0.033303194, ' based': -3.554881, ' from': -6.5469275, ' and': -6.785571, ' greatly': -7.7555285, ' according': -7.9516706, ' over': -8.230039, ' year': -8.6419325, ',': -8.944299, ' in': -9.497085}, {' on': -4.246537e-06, ' factors': -14.1175785, ' o': -14.199291, ' the': -14.225687, '<|endoftext|>': -14.435019, ' ': -15.023813, 'on': -15.089407, ' in': -15.421335, ' upon': -15.675098, ' ont': -16.45564}, {' the': -0.6835836, ' factors': -1.0352377, ' different': -2.1297622, ' various': -4.3871436, ' what': -5.1349387, ' which': -6.4878116, ' cost': -8.103072, ' how': -8.29256, ' sources': -8.580224, ' multiple': -8.896075}, {' ranking': -0.41931218, ' source': -1.8740814, ' factors': -2.2836921, ' cost': -3.5556343, ' methodology': -4.28336, ' specific': -5.113602, ' criteria': -5.432795, ' sources': -5.4795346, ' index': -5.6781774, ' rankings': -5.7286935}, {' and': -0.15480587, ' source': -2.531717, ' used': -3.7279146, ' being': -4.2070518, ',': -4.9296355, \"'s\": -5.0753264, ' organization': -5.4737697, '.': -6.1756415, ' or': -6.4810195, ' methodology': -6.4883246}, {' the': -0.53478646, ' its': -1.6847079, ' factors': -2.1957667, ' methodology': -3.5075953, ' what': -3.755108, ' time': -3.7576258, ' can': -4.2543488, ' data': -5.0235806, ' may': -5.797104, ' different': -6.1143246}, {' factors': -0.22654931, ' time': -1.9728338, ' data': -4.1217823, ' specific': -4.3205853, ' cost': -5.012207, ' date': -5.2320633, ' timeframe': -5.3987675, ' methodology': -5.882227, ' metrics': -6.5355186, ' elements': -6.632969}, {' considered': -1.4127498, ' used': -1.4134135, ' taken': -1.5385013, ' that': -2.0439906, ' included': -2.0596538, ' being': -3.816337, ' it': -4.470451, ' they': -5.001205, ' measured': -7.3656173, ' involved': -8.548647}, {'.': -0.3110598, ',': -1.4204196, ' (': -4.464102, ' in': -4.5716724, ' for': -6.3216, ' such': -6.3365116, '.\\n': -8.428614, ' when': -10.39361, ' to': -10.517014, ' by': -11.347004}, {' It': -1.2665625, ' ': -1.4805307, '<|endoftext|>': -1.5236902, ' Additionally': -1.7742224, ' Therefore': -3.4765253, ' The': -4.0232515, ' Without': -5.0093145, ' Please': -5.1159143, ' As': -5.4653654, ' A': -5.6021223}, {' is': -0.101754606, ' would': -2.4782157, ' may': -5.0284266, ' could': -5.7263637, \"'s\": -6.06562, ' also': -7.3919044, ' might': -9.442964, ' can': -11.520017, ' will': -11.541621, ' should': -12.185565}, {' best': -0.28740036, ' also': -2.4026384, ' important': -2.787055, ' recommended': -2.951354, ' possible': -3.960168, ' always': -4.0438833, ' better': -5.6959696, ' advisable': -5.72762, ' advised': -6.929576, ' suggested': -7.899291}, {' to': -5.4385737e-06, ' practice': -12.833271, ' for': -13.476757, ' ': -14.720261, ' not': -14.884794, ' t': -15.864344, '<|endoftext|>': -16.57896, ' that': -16.700329, ' the': -17.01831, ' consult': -17.116587}, {' refer': -0.81094295, ' check': -1.6881821, ' consult': -1.9224274, ' provide': -2.3643792, ' research': -2.9369423, ' look': -3.5030549, ' verify': -4.5185103, ' confirm': -4.638288, ' specify': -5.4404883, ' do': -5.467523}, {' to': -0.0005176476, ' directly': -7.7741976, ' back': -9.331149, ' the': -11.947562, ' ': -14.140161, ' t': -15.143525, ' and': -15.499639, ' specifically': -15.672318, ' a': -15.916339, '<|endoftext|>': -16.135424}, {' the': -0.023181414, ' a': -3.8555484, ' an': -6.5994945, ' current': -8.961251, ' specific': -9.55292, ' updated': -9.580745, ' reliable': -10.381127, ' and': -10.656106, ' recent': -11.297051, ' multiple': -11.504956}, {' specific': -0.2111442, ' actual': -2.1272094, ' latest': -3.7064464, ' current': -4.17858, ' source': -4.7666, ' most': -5.103806, ' ranking': -5.1638093, ' updated': -5.679978, ' official': -5.905543, ' original': -6.029925}, {' ranking': -0.005301589, ' source': -5.414321, ' information': -8.703362, ' rankings': -8.752294, ' article': -9.351825, ' publication': -9.452134, ' study': -9.6678095, ' list': -9.809209, ' and': -9.951766, ' report': -9.974341}, {' for': -0.8781289, ' in': -1.3765038, ' and': -1.7306374, ' to': -2.525403, ' or': -3.3958673, ' mentioned': -4.0718565, ' being': -4.1074743, ' source': -5.8257227, ' that': -6.458104, ' report': -7.2823668}, {' an': -0.45666644, ' the': -1.1864562, ' accurate': -3.7365623, ' a': -4.024469, ' accuracy': -4.1753364, ' confirmation': -5.5787787, ' more': -8.692861, ' verification': -8.918035, ' this': -10.050645, ' its': -11.211728}, {' accurate': -0.00025037277, ' answer': -9.057191, ' updated': -10.041627, ' official': -10.141816, ' exact': -11.007636, ' accurately': -11.671414, ' authoritative': -11.731603, ' up': -12.236804, ' accur': -12.480187, ' accuracy': -12.923961}, {' answer': -0.00063428195, ' and': -7.4820356, ' result': -10.525962, ' determination': -10.91908, ' response': -11.11534, ' assessment': -12.054664, ' understanding': -13.598447, ' update': -14.191001, ' list': -14.699613, ' ans': -14.933089}]), text='\\n\\nIt is not possible to determine if the assumed answer is right without knowing the specific ranking and its criteria. The most expensive city can vary depending on the ranking and the factors considered. It is best to refer to the specific ranking for an accurate answer')], created=1725600657, model='gpt-3.5-turbo-instruct', object='text_completion', system_fingerprint=None, usage=CompletionUsage(completion_tokens=50, prompt_tokens=41, total_tokens=91)),\n",
       "  Completion(id='cmpl-A4LqcEpynlViQb8sEd9p1543mVtSs', choices=[CompletionChoice(finish_reason='stop', index=0, logprobs=Logprobs(text_offset=[147, 149, 151, 154, 159, 160, 162, 163, 164, 167, 168, 169, 173, 179, 181, 186, 196, 201, 204, 210, 211, 217], token_logprobs=[-0.5019435, -1.1602675, -0.39343172, -0.26894966, -8.4112995e-05, -0.30695635, -0.0012571377, -0.00045771745, -2.7133641e-05, -0.0002456046, -0.0007612687, -0.8350116, -0.11269918, -0.0046001803, -7.0404574e-05, -1.998142e-05, -0.00032390308, -0.5542951, -0.20420927, -0.14120658, -0.3231299, -0.31928274], tokens=['\\n\\n', 'As', ' of', ' June', ' ', '10', ',', ' ', '202', '2', ',', ' the', ' world', \"'s\", ' most', ' expensive', ' city', ' is', ' Tokyo', ',', ' Japan', '.'], top_logprobs=[{'\\n\\n': -0.5019435, '\\n': -2.7042274, ' as': -2.787611, ' \\n\\n': -3.2592983, '<|endoftext|>': -3.3717766, ' because': -4.2164, ' \\n': -4.359577, '.\\n\\n': -4.401148, '.': -4.4981937, ' on': -4.7211304}, {'As': -1.1602675, 'The': -1.5217882, 'There': -2.355351, 'It': -2.87472, 'Sorry': -2.880179, 'I': -2.9723668, 'Without': -3.248879, 'According': -3.4755254, 'Unfortunately': -3.5474153, 'Tok': -3.5524335}, {' of': -0.39343172, ' a': -2.0598783, ' an': -2.2101965, ' I': -3.8751516, ' today': -4.126727, ' the': -4.1651163, ' it': -4.758258, ' this': -4.8123274, ' June': -4.9536695, ' there': -5.7053823}, {' June': -0.26894966, ' ': -1.8489839, ' today': -2.8867152, ' now': -4.9015484, ' May': -5.2720947, ' this': -6.4311066, ' April': -6.434601, ' January': -6.537859, ' the': -6.90798, ' current': -6.96377}, {' ': -8.4112995e-05, ',': -9.972506, ' of': -10.505775, '<|endoftext|>': -12.357048, '10': -12.895281, '\\n': -14.263296, ' June': -14.473192, ' in': -14.66881, '202': -14.993141, ' \\n': -16.307037}, {'10': -0.30695635, '202': -1.331851, '201': -9.083886, '1': -9.637778, '9': -9.697822, '11': -11.1413145, '8': -11.584697, '2': -11.6521845, '22': -11.69395, '20': -12.007941}, {',': -0.0012571377, 'th': -6.8047924, ' ': -8.85747, '<|endoftext|>': -12.856476, '.': -13.901655, ' of': -14.381842, ' ,': -14.409327, ',\\n': -14.613943, ' in': -15.900551, '\\n': -16.455544}, {' ': -0.00045771745, '202': -7.7125797, '<|endoftext|>': -12.202156, ' the': -13.201792, ' June': -14.050112, '201': -15.595165, '2': -15.812939, ' London': -15.86839, '\\xa0': -15.934295, ' Tokyo': -16.021187}, {'202': -2.7133641e-05, '201': -11.030907, '<|endoftext|>': -12.286274, ' ': -12.595863, '200': -14.126776, '22': -14.164667, '2': -14.323849, '20': -15.24712, '220': -16.021397, '222': -16.24382}, {'2': -0.0002456046, '0': -8.990433, '1': -9.152094, '3': -12.408609, ',': -12.702694, '22': -13.139837, '<|endoftext|>': -13.154486, '4': -13.758621, '02': -14.174683, '5': -14.412617}, {',': -0.0007612687, ' the': -7.6809807, ' according': -8.46851, ' (': -10.722416, ' it': -10.944506, ',the': -11.244253, ' there': -11.291315, ' and': -12.114788, ' based': -12.161581, '.': -13.092846}, {' according': -0.8244945, ' the': -0.8350116, ' Tokyo': -2.3229609, ' London': -4.1169844, ' based': -4.6622744, ' a': -6.8232374, ' it': -6.9930964, ' Singapore': -7.4453325, ' New': -7.477298, ' Hong': -8.271247}, {' world': -0.11269918, ' most': -2.2807844, ' current': -5.650205, ' city': -8.019344, ' latest': -9.195522, ' ranking': -9.332062, ' top': -9.5990505, ' answer': -9.630062, ' currently': -10.018953, ' World': -10.034397}, {\"'s\": -0.0046001803, '’s': -5.3853183, \"'\": -12.748739, '<|endoftext|>': -14.106461, '´s': -14.389452, ' most': -14.393602, \"''\": -15.004581, '\"s': -15.238323, '`s': -15.68273, \"\\\\'\": -15.932741}, {' most': -7.0404574e-05, ' current': -10.014626, ' top': -11.843403, ' currently': -11.877134, '<|endoftext|>': -12.723513, ' ': -13.277792, 'most': -13.325474, ' three': -14.046806, ' cost': -14.296965, ' Most': -14.795971}, {' expensive': -1.998142e-05, ' exp': -11.741088, ' expense': -12.696389, ' ex': -13.577102, '<|endoftext|>': -13.823684, '-exp': -13.826064, ' ': -14.032289, ' most': -14.180238, 'exp': -14.203515, ' expenses': -14.422278}, {' city': -0.00032390308, ' cities': -8.066492, ' is': -12.149519, '<|endoftext|>': -13.980925, ' according': -14.3059025, ' ': -14.639559, 'city': -14.749313, ' cit': -14.780336, ' City': -14.918207, ' c': -15.178442}, {' is': -0.5542951, ' according': -0.9046827, ',': -4.0830197, ' based': -5.971028, ' was': -8.025159, ' as': -8.376832, ' would': -8.453353, ' (': -8.958425, ' varies': -9.361276, ' may': -9.403253}, {' Tokyo': -0.20420927, ' London': -3.0432253, ' New': -3.2501593, ' currently': -3.338252, ' Singapore': -3.845811, ' Hong': -4.336793, ' Zurich': -4.615445, ' Paris': -5.2192907, ' Geneva': -5.876399, ' still': -6.0721846}, {',': -0.14120658, '.': -2.2205732, ' according': -3.80459, '.\\n': -7.472601, ' based': -8.575064, '<|endoftext|>': -9.986652, ' (': -10.825031, ' in': -10.892672, ' as': -11.337042, '.\\n\\n': -11.762665}, {' Japan': -0.3231299, ' according': -1.3295081, ' based': -4.6494904, ' as': -6.5646973, ' followed': -7.9131184, ' with': -9.724791, ' which': -10.544069, '<|endoftext|>': -10.793678, ' ranked': -11.1383095, 'Japan': -11.547396}, {'.': -0.31928274, ' according': -1.5251696, ',': -2.958258, '.\\n': -5.8867054, ' based': -7.29134, '<|endoftext|>': -8.9163, ' (': -9.175695, ' as': -9.860796, '.\\n\\n': -10.000319, ' followed': -11.59334}]), text=\"\\n\\nAs of June 10, 2022, the world's most expensive city is Tokyo, Japan.\")], created=1725600658, model='gpt-3.5-turbo-instruct', object='text_completion', system_fingerprint=None, usage=CompletionUsage(completion_tokens=22, prompt_tokens=40, total_tokens=62))],\n",
       " array([-0.40345014, -0.30071587, -0.25868763, -0.20796751]),\n",
       " [array([-6.4408920e-01, -1.2736850e-03, -6.7929360e-01, -4.5401160e-01,\n",
       "         -4.1970730e-01, -6.2576395e-01, -1.1637165e-05]),\n",
       "  array([-7.6150714e-04, -2.1184834e-02, -1.2429156e-01, -4.8006997e-03,\n",
       "         -8.8556740e-01, -7.6768920e-01]),\n",
       "  array([-2.1114420e-01, -5.3015890e-03, -8.7812890e-01, -4.5666644e-01,\n",
       "         -2.5037277e-04, -6.3428195e-04]),\n",
       "  array([-7.6126870e-04, -8.3501160e-01, -1.1269918e-01, -4.6001803e-03,\n",
       "         -7.0404574e-05, -1.9981420e-05, -3.2390308e-04, -5.5429510e-01,\n",
       "         -2.0420927e-01, -1.4120658e-01, -3.2312990e-01, -3.1928274e-01])])"
      ]
     },
     "execution_count": 93,
     "metadata": {},
     "output_type": "execute_result"
    }
   ],
   "source": [
    "outputs, scores, lprobs_list"
   ]
  },
  {
   "cell_type": "code",
   "execution_count": 94,
   "id": "669be631-4f00-4238-b4ce-c2a6d370d877",
   "metadata": {},
   "outputs": [],
   "source": [
    "answer = scores.argmax()"
   ]
  },
  {
   "cell_type": "code",
   "execution_count": 95,
   "id": "7956fa76-a927-4037-ab92-b2678852e583",
   "metadata": {},
   "outputs": [
    {
     "data": {
      "text/plain": [
       "3"
      ]
     },
     "execution_count": 95,
     "metadata": {},
     "output_type": "execute_result"
    }
   ],
   "source": [
    "answer"
   ]
  },
  {
   "cell_type": "code",
   "execution_count": 81,
   "id": "e98180a6-3671-4b1c-8ee9-8334ca1cea0a",
   "metadata": {
    "scrolled": true
   },
   "outputs": [
    {
     "data": {
      "text/plain": [
       "Completion(id='cmpl-A4Ldz0dMbuUhRrgE9yOeT9FbveIOA', choices=[CompletionChoice(finish_reason='stop', index=0, logprobs=Logprobs(text_offset=[108, 110, 116, 117, 120, 123, 128, 129, 131, 132, 133, 136, 137, 138, 142, 148, 150, 155, 165, 170, 173, 183, 190, 191, 203], token_logprobs=[-0.04529266, -0.079203494, -0.00038598618, -0.13697653, -0.0012314192, -0.15007427, -8.947716e-05, -0.08231551, -0.00067514315, -0.00033320097, -2.8444882e-05, -0.00015812746, -0.000723395, -0.27500144, -0.036534578, -0.091364674, -6.420598e-05, -3.166338e-05, -1.8550976e-05, -0.2695399, -1.2498171, -1.4580019, -0.00024323154, -0.0014956956, -0.5937745], tokens=['\\n\\n', 'Answer', ':', ' As', ' of', ' June', ' ', '10', ',', ' ', '202', '2', ',', ' the', ' world', \"'s\", ' most', ' expensive', ' city', ' is', ' currently', ' Zurich', ',', ' Switzerland', '.'], top_logprobs=[{'\\n\\n': -0.04529266, '\\n': -3.4295528, \"'\\n\\n\": -5.161334, '\\n\\n\\n': -6.222995, ' \\n\\n': -6.938819, \"'\\n\": -7.5990286, 'Answer': -7.6569643, \" '\\n\\n\": -7.8657866, '\\n\\n\\n\\n': -8.435992, \"'\": -8.629779}, {'Answer': -0.079203494, 'The': -3.6350985, 'According': -3.8802423, 'Possible': -4.2697115, 'As': -4.9342413, 'Based': -5.9402075, 'There': -6.1089716, 'I': -7.49561, 'Sorry': -7.6683283, 'Unfortunately': -7.868846}, {':': -0.00038598618, ':\\n': -8.6389475, ':\\n\\n': -8.944524, ':The': -9.71581, ' :': -11.746724, '<|endoftext|>': -13.162314, ':A': -13.9585085, ':I': -14.189429, ' (': -14.284362, ' ': -14.297406}, {' As': -0.13697653, ' According': -2.6784918, ' The': -3.7703402, ' It': -4.083525, ' Based': -5.1256166, 'As': -6.1701226, ' Paris': -6.3938737, ' Currently': -6.421471, ' I': -6.4651475, ' Singapore': -6.679915}, {' of': -0.0012314192, ' a': -7.9177504, ' per': -8.21597, ' June': -9.191354, ' the': -9.245526, ' an': -9.323218, ' it': -9.875197, ' on': -9.8936205, ' today': -10.249019, ' for': -10.391629}, {' June': -0.15007427, ' today': -2.094681, ' ': -4.4578805, ' now': -6.3138547, ' this': -6.6212296, ' January': -8.233578, ' May': -8.40127, ' that': -8.715685, ' the': -8.797564, ' current': -8.8550415}, {' ': -8.947716e-05, ',': -9.950565, ' of': -11.076178, '<|endoftext|>': -11.327595, '10': -11.49099, '\\n': -13.301014, ' June': -14.624739, ' \\n': -15.302738, ' in': -16.03937, '.': -16.111696}, {'10': -0.08231551, '202': -2.540411, '1': -9.898872, '9': -10.031719, '201': -10.4345875, '<|endoftext|>': -11.532936, '2': -11.984365, '8': -12.121216, '20': -12.133404, '11': -12.232061}, {',': -0.00067514315, 'th': -7.390253, ' ': -9.878651, '<|endoftext|>': -12.712631, '.': -13.393202, ' ,': -14.27021, ' of': -14.685041, ',\\n': -14.810234, '\\n': -16.042448, ' in': -16.39248}, {' ': -0.00033320097, '202': -8.0455885, '<|endoftext|>': -11.607741, ' June': -13.834197, ' the': -14.19604, ' The': -15.584691, '2': -15.887388, ' \\n': -16.105452, '201': -16.168795, ' \\u200b\\u200b': -16.326262}, {'202': -2.8444882e-05, '201': -11.275227, '<|endoftext|>': -12.041849, '2': -12.562857, ' ': -12.861523, '20': -13.307798, '22': -14.073452, '200': -14.124781, '220': -15.668179, '222': -16.13186}, {'2': -0.00015812746, '0': -9.415569, '1': -9.845385, ',': -11.963984, '<|endoftext|>': -11.997612, '3': -12.518581, '22': -12.668901, '02': -13.610962, '4': -14.327005, '5': -14.439505}, {',': -0.000723395, ' the': -7.5137143, ' according': -9.01485, ',the': -10.353894, ' based': -12.241042, ' (': -12.30536, '.': -12.686217, ' it': -12.886058, ' ,': -13.007691, ' and': -13.632596}, {' the': -0.27500144, ' according': -1.5241469, ' Hong': -4.9010086, ' Paris': -5.5295143, ' based': -5.5920544, ' Tokyo': -5.843992, ' Singapore': -6.349966, ' it': -6.749094, ' a': -7.58605, ' Zurich': -7.6801624}, {' world': -0.036534578, ' most': -3.3996575, ' current': -6.1895423, ' city': -8.203052, ' currently': -10.132033, ' latest': -10.56869, ' top': -10.6296835, ' World': -11.159659, ' title': -11.341273, ' ': -11.433463}, {\"'s\": -0.091364674, '’s': -2.4384391, \"'\": -11.955844, \"\\\\'\": -12.924792, '‘s': -13.412662, '’': -13.532792, ' most': -13.763284, \"''\": -13.854442, '´s': -14.0663, '\"s': -14.394692}, {' most': -6.420598e-05, ' current': -10.04971, ' currently': -12.095378, '<|endoftext|>': -12.85296, 'most': -13.061381, ' ': -13.299548, ' top': -13.381492, ' Most': -13.933482, ' mos': -13.934077, ' cost': -14.020238}, {' expensive': -3.166338e-05, ' exp': -11.184529, ' expense': -12.339274, ' ex': -12.586585, 'exp': -13.660075, ' ': -13.675429, '-exp': -13.687633, '<|endoftext|>': -13.805333, ' e': -13.907693, ' city': -14.00402}, {' city': -1.8550976e-05, ' cities': -11.532491, ' is': -12.370229, ' cit': -14.172862, 'city': -14.394603, '<|endoftext|>': -14.406482, ' ': -14.659453, ' c': -14.669158, ' City': -14.997052, ' ci': -15.200341}, {' is': -0.2695399, ' according': -1.5094957, ',': -4.3496313, ' based': -6.3934355, ' was': -8.579265, ' as': -8.672299, ' would': -9.455747, ' (': -9.476981, ' appears': -10.829654, ' remains': -10.835029}, {' currently': -1.2498171, ' Zurich': -1.6316588, ' Hong': -1.6722682, ' Singapore': -1.7982657, ' Paris': -2.3437235, ' Tokyo': -3.6327517, ' New': -4.645794, ' reported': -5.0564613, ' listed': -5.2658615, ' reportedly': -5.4868355}, {' Singapore': -1.3973005, ' Zurich': -1.4580019, ' Hong': -1.9545667, ' Paris': -2.0963113, ' Tokyo': -2.1945112, ' listed': -3.2935503, ' reported': -3.8037832, ' identified': -4.0754166, ' ranked': -4.0768814, ' New': -4.308449}, {',': -0.00024323154, ' in': -8.538743, '.': -10.293893, '<|endoftext|>': -12.603496, ' according': -12.653287, ' Switzerland': -13.522109, ' (': -13.727935, ' ,': -13.8679285, ',S': -14.152444, '.\\n': -14.726628}, {' Switzerland': -0.0014956956, ' according': -6.6366086, ' followed': -9.29731, ' as': -10.446154, ' based': -10.83856, ' in': -11.22341, ' Sw': -11.41054, ' with': -12.336353, 'Sw': -12.581696, ' located': -12.62842}, {'.': -0.5937745, ' according': -1.1925943, ',': -1.969135, '.\\n': -6.1644416, ' based': -6.570375, '.\"': -7.586143, ' as': -8.414757, ' (': -8.914753, ' followed': -8.968748, '<|endoftext|>': -9.492352}]), text=\"\\n\\nAnswer: As of June 10, 2022, the world's most expensive city is currently Zurich, Switzerland.\")], created=1725599875, model='gpt-3.5-turbo-instruct', object='text_completion', system_fingerprint=None, usage=CompletionUsage(completion_tokens=25, prompt_tokens=29, total_tokens=54))"
      ]
     },
     "execution_count": 81,
     "metadata": {},
     "output_type": "execute_result"
    }
   ],
   "source": [
    "output = client.completions.create(\n",
    "                        model = model,\n",
    "                        prompt = \"'Question: Today is June 10, 2022. According to a recent ranking, which is the world’s most expensive city? \",\n",
    "                        max_tokens=50,\n",
    "                        logprobs = 10,\n",
    "                        # echo = True,\n",
    "                        temperature = 0.05,\n",
    "                        )\n",
    "output"
   ]
  },
  {
   "cell_type": "code",
   "execution_count": 1,
   "id": "029618b4-ad6b-40cf-9b1f-9e4d0b8fabf1",
   "metadata": {},
   "outputs": [
    {
     "name": "stdout",
     "output_type": "stream",
     "text": [
      "None\n",
      "None\n",
      "None\n"
     ]
    }
   ],
   "source": [
    "import os\n",
    "print(os.environ.get(\"TRANSFORMERS_CACHE\"))\n",
    "print(os.environ.get(\"HF_HOME\"))\n",
    "print(os.environ.get(\"HF_DATASET_CACHE\"))"
   ]
  }
 ],
 "metadata": {
  "kernelspec": {
   "display_name": "Python 3 (ipykernel)",
   "language": "python",
   "name": "python3"
  },
  "language_info": {
   "codemirror_mode": {
    "name": "ipython",
    "version": 3
   },
   "file_extension": ".py",
   "mimetype": "text/x-python",
   "name": "python",
   "nbconvert_exporter": "python",
   "pygments_lexer": "ipython3",
   "version": "3.10.14"
  }
 },
 "nbformat": 4,
 "nbformat_minor": 5
}
